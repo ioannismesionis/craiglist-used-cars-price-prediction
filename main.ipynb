{
 "cells": [
  {
   "cell_type": "markdown",
   "metadata": {},
   "source": [
    "### 0. Settings"
   ]
  },
  {
   "cell_type": "code",
   "execution_count": 1,
   "metadata": {},
   "outputs": [],
   "source": [
    "# Import packages needed\n",
    "import pandas as pd\n",
    "import numpy as np\n",
    "from matplotlib import pyplot as plt\n",
    "import seaborn as sns\n",
    "import pickle"
   ]
  },
  {
   "cell_type": "code",
   "execution_count": null,
   "metadata": {},
   "outputs": [],
   "source": [
    "# Read the raw data\n",
    "raw_df = pd.read_csv('./data/raw/vehicles.csv')\n",
    "raw_df"
   ]
  },
  {
   "cell_type": "code",
   "execution_count": null,
   "metadata": {},
   "outputs": [],
   "source": [
    "# Check for duplicated values\n",
    "raw_df.duplicated().sum()\n",
    "\n",
    "# NOTE:\n",
    "# No duplicated values exist in the dataframe."
   ]
  },
  {
   "cell_type": "code",
   "execution_count": null,
   "metadata": {},
   "outputs": [],
   "source": [
    "# from sklearn.model_selection import train_test_split\n",
    "\n",
    "# X = raw_df.drop(\"price\", axis=1)\n",
    "# y = raw_df[\"price\"]\n",
    "\n",
    "# X_train, X_test, y_train, y_test = train_test_split(\n",
    "#     X, y, test_size=0.33, random_state=120\n",
    "#     )\n",
    "\n",
    "# # pd.concat([X_train, y_train], axis=1).reset_index(drop=True).to_csv(\"data/raw/train.csv\", index=False)\n",
    "# # pd.concat([X_test, y_test], axis=1).reset_index(drop=True).to_csv(\"data/raw/test.csv\", index=False)"
   ]
  },
  {
   "cell_type": "markdown",
   "metadata": {},
   "source": [
    "### 1. EDA"
   ]
  },
  {
   "cell_type": "code",
   "execution_count": 8,
   "metadata": {},
   "outputs": [],
   "source": [
    "def visualise_corr_pairs(df, x, y, vis_type=\"scatter\", rotate_xticks=None):\n",
    "    \"\"\"Helper function to visualise correlation between pair of columns.\n",
    "\n",
    "    Args:\n",
    "        df (pd.DataFrame): The data that contain the columns needed to be visualised\n",
    "        x (str): The column name that will be used for the x-axis\n",
    "        y (str): The column name that will be used for the y-axis\n",
    "        vis_type (str, optional): The visualisation type; scatterplot('scatter'), regression('reg') or boxplot('boxplot). Defaults to 'scatter'.\n",
    "        rotate_xticks (int, optional): Ticks rotation expressed in degrees. Defaults to 'None'.\n",
    "    \"\"\"\n",
    "    # Creating the unified dataframe for the visualisation\n",
    "    data = pd.concat([df[y], df[x]], axis=1)\n",
    "\n",
    "    if vis_type == \"scatter\":\n",
    "        data.plot.scatter(x=x, y=y)\n",
    "    elif vis_type == \"reg\":\n",
    "        sns.regplot(x=x, y=y, data=data)\n",
    "    elif vis_type == \"boxplot\":\n",
    "        sns.boxplot(x=x, y=y, data=data)\n",
    "    else:\n",
    "        print('Please select either \"scatter\" or \"reg\" for the \"vis_type\" argument')\n",
    "\n",
    "    if rotate_xticks is not None:\n",
    "        plt.xticks(rotation=rotate_xticks)\n",
    "\n",
    "    plt.show()\n",
    "\n",
    "\n",
    "def plot_overlay_graph(df, categorical_col, y_target):\n",
    "    \"\"\"Create the correlation between a categorical variable and the y response using \n",
    "    an overylay plot of a barplot (for categorical) and line graph (for response).\n",
    "\n",
    "\n",
    "    Args:\n",
    "        df (pd.DataFrame): The raw data\n",
    "        categorical_col (str): The name of the categorical column\n",
    "        y_target (float/int): The name of the response variable (i.e. y target)\n",
    "    \"\"\"\n",
    "    df.groupby(categorical_col).agg({y_target: 'mean'}).plot(kind='line', color='red', marker='o', secondary_y=True)  # Line Graph of Response (y target)\n",
    "    df[categorical_col].value_counts(sort=False).plot(kind='bar', figsize=(10,5))  # Barplot of categorical variable (plotting frequency)\n",
    "    plt.title(f\"Categorical feature: {categorical_col}\")\n",
    "    plt.show()\n",
    "\n",
    "\n",
    "def dump_pickle(obj, filename: str) -> None:\n",
    "    \"\"\"Save object as pickle file.\n",
    "\n",
    "    Args:\n",
    "        obj (object): The object to be saved\n",
    "        filename (str): The filename of the pickle file to be saved\n",
    "    \"\"\"\n",
    "    with open(filename, \"wb\") as f_out:\n",
    "        return pickle.dump(obj, f_out)\n",
    "\n",
    "\n",
    "def load_pickle(filename: str) -> None:\n",
    "    \"\"\"Load a pickle file.\n",
    "\n",
    "    Args:\n",
    "        filename (str): The path of the pickle file to be loaded\n",
    "    \"\"\"\n",
    "    with open(filename, \"rb\") as f_in:\n",
    "        return pickle.load(f_in)"
   ]
  },
  {
   "cell_type": "code",
   "execution_count": 15,
   "metadata": {},
   "outputs": [
    {
     "data": {
      "text/html": [
       "<div>\n",
       "<style scoped>\n",
       "    .dataframe tbody tr th:only-of-type {\n",
       "        vertical-align: middle;\n",
       "    }\n",
       "\n",
       "    .dataframe tbody tr th {\n",
       "        vertical-align: top;\n",
       "    }\n",
       "\n",
       "    .dataframe thead th {\n",
       "        text-align: right;\n",
       "    }\n",
       "</style>\n",
       "<table border=\"1\" class=\"dataframe\">\n",
       "  <thead>\n",
       "    <tr style=\"text-align: right;\">\n",
       "      <th></th>\n",
       "      <th>id</th>\n",
       "      <th>url</th>\n",
       "      <th>region</th>\n",
       "      <th>region_url</th>\n",
       "      <th>year</th>\n",
       "      <th>manufacturer</th>\n",
       "      <th>model</th>\n",
       "      <th>condition</th>\n",
       "      <th>cylinders</th>\n",
       "      <th>fuel</th>\n",
       "      <th>...</th>\n",
       "      <th>type</th>\n",
       "      <th>paint_color</th>\n",
       "      <th>image_url</th>\n",
       "      <th>description</th>\n",
       "      <th>county</th>\n",
       "      <th>state</th>\n",
       "      <th>lat</th>\n",
       "      <th>long</th>\n",
       "      <th>posting_date</th>\n",
       "      <th>price</th>\n",
       "    </tr>\n",
       "  </thead>\n",
       "  <tbody>\n",
       "    <tr>\n",
       "      <th>0</th>\n",
       "      <td>7315892530</td>\n",
       "      <td>https://tucson.craigslist.org/ctd/d/tucson-201...</td>\n",
       "      <td>tucson</td>\n",
       "      <td>https://tucson.craigslist.org</td>\n",
       "      <td>2010.0</td>\n",
       "      <td>toyota</td>\n",
       "      <td>corolla</td>\n",
       "      <td>excellent</td>\n",
       "      <td>4 cylinders</td>\n",
       "      <td>gas</td>\n",
       "      <td>...</td>\n",
       "      <td>sedan</td>\n",
       "      <td>NaN</td>\n",
       "      <td>https://images.craigslist.org/00r0r_6sJI7Vm7Kn...</td>\n",
       "      <td>2010 Toyota Corolla  for only154,753 mi. - Aut...</td>\n",
       "      <td>NaN</td>\n",
       "      <td>az</td>\n",
       "      <td>32.300172</td>\n",
       "      <td>-110.979304</td>\n",
       "      <td>2021-05-02T12:48:07-0700</td>\n",
       "      <td>5500</td>\n",
       "    </tr>\n",
       "    <tr>\n",
       "      <th>1</th>\n",
       "      <td>7311975308</td>\n",
       "      <td>https://boulder.craigslist.org/cto/d/longmont-...</td>\n",
       "      <td>boulder</td>\n",
       "      <td>https://boulder.craigslist.org</td>\n",
       "      <td>2012.0</td>\n",
       "      <td>ford</td>\n",
       "      <td>f250 super duty</td>\n",
       "      <td>good</td>\n",
       "      <td>8 cylinders</td>\n",
       "      <td>gas</td>\n",
       "      <td>...</td>\n",
       "      <td>truck</td>\n",
       "      <td>white</td>\n",
       "      <td>https://images.craigslist.org/00000_ikLKqMDpLs...</td>\n",
       "      <td>2012 Ford F250 4X4 XLT  Extended Cab The truck...</td>\n",
       "      <td>NaN</td>\n",
       "      <td>co</td>\n",
       "      <td>40.177900</td>\n",
       "      <td>-105.100900</td>\n",
       "      <td>2021-04-24T12:13:12-0600</td>\n",
       "      <td>16999</td>\n",
       "    </tr>\n",
       "    <tr>\n",
       "      <th>2</th>\n",
       "      <td>7313252706</td>\n",
       "      <td>https://cnj.craigslist.org/cto/d/belle-mead-19...</td>\n",
       "      <td>central NJ</td>\n",
       "      <td>https://cnj.craigslist.org</td>\n",
       "      <td>1978.0</td>\n",
       "      <td>pontiac</td>\n",
       "      <td>trans am</td>\n",
       "      <td>like new</td>\n",
       "      <td>8 cylinders</td>\n",
       "      <td>gas</td>\n",
       "      <td>...</td>\n",
       "      <td>coupe</td>\n",
       "      <td>custom</td>\n",
       "      <td>https://images.craigslist.org/00101_hAIeWl4y1n...</td>\n",
       "      <td>Ground up restoration.  This car is mint in an...</td>\n",
       "      <td>NaN</td>\n",
       "      <td>nj</td>\n",
       "      <td>40.477500</td>\n",
       "      <td>-74.627200</td>\n",
       "      <td>2021-04-27T08:35:40-0400</td>\n",
       "      <td>35000</td>\n",
       "    </tr>\n",
       "    <tr>\n",
       "      <th>3</th>\n",
       "      <td>7313847589</td>\n",
       "      <td>https://kpr.craigslist.org/ctd/d/spokane-2015-...</td>\n",
       "      <td>kennewick-pasco-richland</td>\n",
       "      <td>https://kpr.craigslist.org</td>\n",
       "      <td>2015.0</td>\n",
       "      <td>kia</td>\n",
       "      <td>soul</td>\n",
       "      <td>NaN</td>\n",
       "      <td>4 cylinders</td>\n",
       "      <td>gas</td>\n",
       "      <td>...</td>\n",
       "      <td>wagon</td>\n",
       "      <td>custom</td>\n",
       "      <td>https://images.craigslist.org/00X0X_4iirRcM2y7...</td>\n",
       "      <td>Most common questions about this vehicle:  Wan...</td>\n",
       "      <td>NaN</td>\n",
       "      <td>wa</td>\n",
       "      <td>47.664705</td>\n",
       "      <td>-117.310362</td>\n",
       "      <td>2021-04-28T08:44:04-0700</td>\n",
       "      <td>11982</td>\n",
       "    </tr>\n",
       "    <tr>\n",
       "      <th>4</th>\n",
       "      <td>7315904322</td>\n",
       "      <td>https://denver.craigslist.org/ctd/d/denver-201...</td>\n",
       "      <td>denver</td>\n",
       "      <td>https://denver.craigslist.org</td>\n",
       "      <td>2014.0</td>\n",
       "      <td>gmc</td>\n",
       "      <td>sierra 1500 regular cab</td>\n",
       "      <td>good</td>\n",
       "      <td>6 cylinders</td>\n",
       "      <td>gas</td>\n",
       "      <td>...</td>\n",
       "      <td>pickup</td>\n",
       "      <td>brown</td>\n",
       "      <td>https://images.craigslist.org/00R0R_lwWjXSEWNa...</td>\n",
       "      <td>Carvana is the safer way to buy a car During t...</td>\n",
       "      <td>NaN</td>\n",
       "      <td>co</td>\n",
       "      <td>39.760000</td>\n",
       "      <td>-104.870000</td>\n",
       "      <td>2021-05-02T14:11:07-0600</td>\n",
       "      <td>25990</td>\n",
       "    </tr>\n",
       "    <tr>\n",
       "      <th>...</th>\n",
       "      <td>...</td>\n",
       "      <td>...</td>\n",
       "      <td>...</td>\n",
       "      <td>...</td>\n",
       "      <td>...</td>\n",
       "      <td>...</td>\n",
       "      <td>...</td>\n",
       "      <td>...</td>\n",
       "      <td>...</td>\n",
       "      <td>...</td>\n",
       "      <td>...</td>\n",
       "      <td>...</td>\n",
       "      <td>...</td>\n",
       "      <td>...</td>\n",
       "      <td>...</td>\n",
       "      <td>...</td>\n",
       "      <td>...</td>\n",
       "      <td>...</td>\n",
       "      <td>...</td>\n",
       "      <td>...</td>\n",
       "      <td>...</td>\n",
       "    </tr>\n",
       "    <tr>\n",
       "      <th>286004</th>\n",
       "      <td>7313245446</td>\n",
       "      <td>https://porthuron.craigslist.org/ctd/d/sarnia-...</td>\n",
       "      <td>port huron</td>\n",
       "      <td>https://porthuron.craigslist.org</td>\n",
       "      <td>2014.0</td>\n",
       "      <td>dodge</td>\n",
       "      <td>grand caravan se</td>\n",
       "      <td>excellent</td>\n",
       "      <td>6 cylinders</td>\n",
       "      <td>gas</td>\n",
       "      <td>...</td>\n",
       "      <td>mini-van</td>\n",
       "      <td>black</td>\n",
       "      <td>https://images.craigslist.org/00q0q_fSqhHzkyoO...</td>\n",
       "      <td>GUARANTEED CREDIT APPROVAL!!</td>\n",
       "      <td>NaN</td>\n",
       "      <td>mi</td>\n",
       "      <td>42.942409</td>\n",
       "      <td>-82.448088</td>\n",
       "      <td>2021-04-27T08:08:22-0400</td>\n",
       "      <td>8500</td>\n",
       "    </tr>\n",
       "    <tr>\n",
       "      <th>286005</th>\n",
       "      <td>7314854444</td>\n",
       "      <td>https://asheville.craigslist.org/ctd/d/ashevil...</td>\n",
       "      <td>asheville</td>\n",
       "      <td>https://asheville.craigslist.org</td>\n",
       "      <td>2020.0</td>\n",
       "      <td>ford</td>\n",
       "      <td>mustang gt coupe 2d</td>\n",
       "      <td>good</td>\n",
       "      <td>NaN</td>\n",
       "      <td>other</td>\n",
       "      <td>...</td>\n",
       "      <td>coupe</td>\n",
       "      <td>black</td>\n",
       "      <td>https://images.craigslist.org/00v0v_2bdMDDQNtC...</td>\n",
       "      <td>Carvana is the safer way to buy a car During t...</td>\n",
       "      <td>NaN</td>\n",
       "      <td>nc</td>\n",
       "      <td>35.570000</td>\n",
       "      <td>-82.540000</td>\n",
       "      <td>2021-04-30T12:21:16-0400</td>\n",
       "      <td>39590</td>\n",
       "    </tr>\n",
       "    <tr>\n",
       "      <th>286006</th>\n",
       "      <td>7311819573</td>\n",
       "      <td>https://newlondon.craigslist.org/ctd/d/tariffv...</td>\n",
       "      <td>eastern CT</td>\n",
       "      <td>https://newlondon.craigslist.org</td>\n",
       "      <td>2010.0</td>\n",
       "      <td>subaru</td>\n",
       "      <td>forester</td>\n",
       "      <td>NaN</td>\n",
       "      <td>NaN</td>\n",
       "      <td>gas</td>\n",
       "      <td>...</td>\n",
       "      <td>SUV</td>\n",
       "      <td>silver</td>\n",
       "      <td>https://images.craigslist.org/00404_iGRyyEAp5t...</td>\n",
       "      <td>2010 Subaru Forester 2.5X Premium AWD 4dr Wago...</td>\n",
       "      <td>NaN</td>\n",
       "      <td>ct</td>\n",
       "      <td>41.931038</td>\n",
       "      <td>-72.767128</td>\n",
       "      <td>2021-04-24T09:54:52-0400</td>\n",
       "      <td>7998</td>\n",
       "    </tr>\n",
       "    <tr>\n",
       "      <th>286007</th>\n",
       "      <td>7315058490</td>\n",
       "      <td>https://oklahomacity.craigslist.org/cto/d/okla...</td>\n",
       "      <td>oklahoma city</td>\n",
       "      <td>https://oklahomacity.craigslist.org</td>\n",
       "      <td>2000.0</td>\n",
       "      <td>bmw</td>\n",
       "      <td>328i</td>\n",
       "      <td>good</td>\n",
       "      <td>NaN</td>\n",
       "      <td>gas</td>\n",
       "      <td>...</td>\n",
       "      <td>sedan</td>\n",
       "      <td>grey</td>\n",
       "      <td>https://images.craigslist.org/00l0l_f0IYljAjqN...</td>\n",
       "      <td>Charcoal Grey 4 door clean, well maintained in...</td>\n",
       "      <td>NaN</td>\n",
       "      <td>ok</td>\n",
       "      <td>35.501600</td>\n",
       "      <td>-97.628800</td>\n",
       "      <td>2021-04-30T17:13:19-0500</td>\n",
       "      <td>3500</td>\n",
       "    </tr>\n",
       "    <tr>\n",
       "      <th>286008</th>\n",
       "      <td>7315831730</td>\n",
       "      <td>https://wausau.craigslist.org/ctd/d/wausau-201...</td>\n",
       "      <td>wausau</td>\n",
       "      <td>https://wausau.craigslist.org</td>\n",
       "      <td>2016.0</td>\n",
       "      <td>chevrolet</td>\n",
       "      <td>camaro ss coupe 2d</td>\n",
       "      <td>good</td>\n",
       "      <td>8 cylinders</td>\n",
       "      <td>gas</td>\n",
       "      <td>...</td>\n",
       "      <td>coupe</td>\n",
       "      <td>red</td>\n",
       "      <td>https://images.craigslist.org/00i0i_5fpVmidrep...</td>\n",
       "      <td>Carvana is the safer way to buy a car During t...</td>\n",
       "      <td>NaN</td>\n",
       "      <td>wi</td>\n",
       "      <td>44.960000</td>\n",
       "      <td>-89.640000</td>\n",
       "      <td>2021-05-02T12:51:36-0500</td>\n",
       "      <td>37990</td>\n",
       "    </tr>\n",
       "  </tbody>\n",
       "</table>\n",
       "<p>286009 rows × 26 columns</p>\n",
       "</div>"
      ],
      "text/plain": [
       "                id                                                url  \\\n",
       "0       7315892530  https://tucson.craigslist.org/ctd/d/tucson-201...   \n",
       "1       7311975308  https://boulder.craigslist.org/cto/d/longmont-...   \n",
       "2       7313252706  https://cnj.craigslist.org/cto/d/belle-mead-19...   \n",
       "3       7313847589  https://kpr.craigslist.org/ctd/d/spokane-2015-...   \n",
       "4       7315904322  https://denver.craigslist.org/ctd/d/denver-201...   \n",
       "...            ...                                                ...   \n",
       "286004  7313245446  https://porthuron.craigslist.org/ctd/d/sarnia-...   \n",
       "286005  7314854444  https://asheville.craigslist.org/ctd/d/ashevil...   \n",
       "286006  7311819573  https://newlondon.craigslist.org/ctd/d/tariffv...   \n",
       "286007  7315058490  https://oklahomacity.craigslist.org/cto/d/okla...   \n",
       "286008  7315831730  https://wausau.craigslist.org/ctd/d/wausau-201...   \n",
       "\n",
       "                          region                           region_url    year  \\\n",
       "0                         tucson        https://tucson.craigslist.org  2010.0   \n",
       "1                        boulder       https://boulder.craigslist.org  2012.0   \n",
       "2                     central NJ           https://cnj.craigslist.org  1978.0   \n",
       "3       kennewick-pasco-richland           https://kpr.craigslist.org  2015.0   \n",
       "4                         denver        https://denver.craigslist.org  2014.0   \n",
       "...                          ...                                  ...     ...   \n",
       "286004                port huron     https://porthuron.craigslist.org  2014.0   \n",
       "286005                 asheville     https://asheville.craigslist.org  2020.0   \n",
       "286006                eastern CT     https://newlondon.craigslist.org  2010.0   \n",
       "286007             oklahoma city  https://oklahomacity.craigslist.org  2000.0   \n",
       "286008                    wausau        https://wausau.craigslist.org  2016.0   \n",
       "\n",
       "       manufacturer                    model  condition    cylinders   fuel  \\\n",
       "0            toyota                  corolla  excellent  4 cylinders    gas   \n",
       "1              ford          f250 super duty       good  8 cylinders    gas   \n",
       "2           pontiac                 trans am   like new  8 cylinders    gas   \n",
       "3               kia                     soul        NaN  4 cylinders    gas   \n",
       "4               gmc  sierra 1500 regular cab       good  6 cylinders    gas   \n",
       "...             ...                      ...        ...          ...    ...   \n",
       "286004        dodge         grand caravan se  excellent  6 cylinders    gas   \n",
       "286005         ford      mustang gt coupe 2d       good          NaN  other   \n",
       "286006       subaru                 forester        NaN          NaN    gas   \n",
       "286007          bmw                     328i       good          NaN    gas   \n",
       "286008    chevrolet       camaro ss coupe 2d       good  8 cylinders    gas   \n",
       "\n",
       "        ...      type paint_color  \\\n",
       "0       ...     sedan         NaN   \n",
       "1       ...     truck       white   \n",
       "2       ...     coupe      custom   \n",
       "3       ...     wagon      custom   \n",
       "4       ...    pickup       brown   \n",
       "...     ...       ...         ...   \n",
       "286004  ...  mini-van       black   \n",
       "286005  ...     coupe       black   \n",
       "286006  ...       SUV      silver   \n",
       "286007  ...     sedan        grey   \n",
       "286008  ...     coupe         red   \n",
       "\n",
       "                                                image_url  \\\n",
       "0       https://images.craigslist.org/00r0r_6sJI7Vm7Kn...   \n",
       "1       https://images.craigslist.org/00000_ikLKqMDpLs...   \n",
       "2       https://images.craigslist.org/00101_hAIeWl4y1n...   \n",
       "3       https://images.craigslist.org/00X0X_4iirRcM2y7...   \n",
       "4       https://images.craigslist.org/00R0R_lwWjXSEWNa...   \n",
       "...                                                   ...   \n",
       "286004  https://images.craigslist.org/00q0q_fSqhHzkyoO...   \n",
       "286005  https://images.craigslist.org/00v0v_2bdMDDQNtC...   \n",
       "286006  https://images.craigslist.org/00404_iGRyyEAp5t...   \n",
       "286007  https://images.craigslist.org/00l0l_f0IYljAjqN...   \n",
       "286008  https://images.craigslist.org/00i0i_5fpVmidrep...   \n",
       "\n",
       "                                              description county state  \\\n",
       "0       2010 Toyota Corolla  for only154,753 mi. - Aut...    NaN    az   \n",
       "1       2012 Ford F250 4X4 XLT  Extended Cab The truck...    NaN    co   \n",
       "2       Ground up restoration.  This car is mint in an...    NaN    nj   \n",
       "3       Most common questions about this vehicle:  Wan...    NaN    wa   \n",
       "4       Carvana is the safer way to buy a car During t...    NaN    co   \n",
       "...                                                   ...    ...   ...   \n",
       "286004                       GUARANTEED CREDIT APPROVAL!!    NaN    mi   \n",
       "286005  Carvana is the safer way to buy a car During t...    NaN    nc   \n",
       "286006  2010 Subaru Forester 2.5X Premium AWD 4dr Wago...    NaN    ct   \n",
       "286007  Charcoal Grey 4 door clean, well maintained in...    NaN    ok   \n",
       "286008  Carvana is the safer way to buy a car During t...    NaN    wi   \n",
       "\n",
       "              lat        long              posting_date  price  \n",
       "0       32.300172 -110.979304  2021-05-02T12:48:07-0700   5500  \n",
       "1       40.177900 -105.100900  2021-04-24T12:13:12-0600  16999  \n",
       "2       40.477500  -74.627200  2021-04-27T08:35:40-0400  35000  \n",
       "3       47.664705 -117.310362  2021-04-28T08:44:04-0700  11982  \n",
       "4       39.760000 -104.870000  2021-05-02T14:11:07-0600  25990  \n",
       "...           ...         ...                       ...    ...  \n",
       "286004  42.942409  -82.448088  2021-04-27T08:08:22-0400   8500  \n",
       "286005  35.570000  -82.540000  2021-04-30T12:21:16-0400  39590  \n",
       "286006  41.931038  -72.767128  2021-04-24T09:54:52-0400   7998  \n",
       "286007  35.501600  -97.628800  2021-04-30T17:13:19-0500   3500  \n",
       "286008  44.960000  -89.640000  2021-05-02T12:51:36-0500  37990  \n",
       "\n",
       "[286009 rows x 26 columns]"
      ]
     },
     "execution_count": 15,
     "metadata": {},
     "output_type": "execute_result"
    }
   ],
   "source": [
    "# Read the train dataset\n",
    "train_df = pd.read_csv('./data/raw/train.csv')\n",
    "train_df"
   ]
  },
  {
   "cell_type": "code",
   "execution_count": 3,
   "metadata": {},
   "outputs": [
    {
     "data": {
      "text/plain": [
       "(286009, 26)"
      ]
     },
     "execution_count": 3,
     "metadata": {},
     "output_type": "execute_result"
    }
   ],
   "source": [
    "train_df = (train_df\n",
    "            .sample(286_009, random_state=120)\n",
    "            .reset_index(drop=True)\n",
    "            .copy()\n",
    "            )\n",
    "train_df.shape\n",
    "\n",
    "# TODO:\n",
    "# Remove when more sources become available."
   ]
  },
  {
   "cell_type": "code",
   "execution_count": 16,
   "metadata": {},
   "outputs": [
    {
     "data": {
      "text/plain": [
       "(140871, 26)"
      ]
     },
     "execution_count": 16,
     "metadata": {},
     "output_type": "execute_result"
    }
   ],
   "source": [
    "# Read the testing dataset to transform alongside with the training set\n",
    "test_df = pd.read_csv(\"data/raw/test.csv\")\n",
    "#test_df = test_df.sample(frac=0.1, random_state=120).reset_index(drop=True).copy()\n",
    "test_df.shape"
   ]
  },
  {
   "cell_type": "code",
   "execution_count": null,
   "metadata": {},
   "outputs": [],
   "source": [
    "train_df.info()\n",
    "\n",
    "# NOTE:\n",
    "# 1. We are dealing with ~286K observations and 26 columns (25+response).\n",
    "# 2. We can already see that there are missing values that needs to be addressed in the future."
   ]
  },
  {
   "cell_type": "code",
   "execution_count": null,
   "metadata": {},
   "outputs": [],
   "source": [
    "# See if every observation corresponds to a unique car\n",
    "(\n",
    "    train_df[\"id\"]\n",
    "        .value_counts()\n",
    "        .sort_values()\n",
    ")\n",
    "# NOTE:\n",
    "# Every observation correspond to a single advert (car)"
   ]
  },
  {
   "cell_type": "code",
   "execution_count": null,
   "metadata": {},
   "outputs": [],
   "source": [
    "# plt.figure(figsize=(10, 5))\n",
    "# sns.histplot(data=train_df, x=\"price\", kde=True)\n",
    "# plt.tight_layout()\n",
    "\n",
    "# # NOTE:\n",
    "# # 1. This is highly right-skewed distribution\n",
    "# # 2. There is a long right tail with some extreme values on the right (outliers)."
   ]
  },
  {
   "cell_type": "code",
   "execution_count": null,
   "metadata": {},
   "outputs": [],
   "source": [
    "# Kurtosis\n",
    "print(f\"Kurtosis of the 'price' column: {train_df['price'].kurt():.3f}\")\n",
    "print(f\"Skewness of the 'price' column: {train_df['price'].skew():.3f}\")\n",
    "\n",
    "# NOTE:\n",
    "# 1. Skewness is a measure of the asymmetry of a distribution:\n",
    "# If a distribution is symmetrical, its skewness is zero. If the distribution is positively skewed (i.e. the tail on the right side of the peak is longer or fatter), the skewness is positive.\n",
    "\n",
    "# 2. Excess Kurtosis is a measure of the \"peakedness\" of a distribution.\n",
    "# It describes how much of the distribution is in the tails compared to a normal distribution (which has a kurtosis of 3)\n",
    "# - If the kurtosis is less than 3, the distribution is said to be less peaked than a normal distribution and have lighter tails.\n",
    "\n",
    "# TODO:\n",
    "# Interpret correctly the numbers."
   ]
  },
  {
   "cell_type": "code",
   "execution_count": null,
   "metadata": {},
   "outputs": [],
   "source": [
    "train_df.info()\n",
    "\n",
    "# NOTE:\n",
    "# There are data types issues that maybe need to be addressed in the future to speed processing time."
   ]
  },
  {
   "cell_type": "code",
   "execution_count": null,
   "metadata": {},
   "outputs": [],
   "source": [
    "# Capture expected data types for future conversion\n",
    "CONFIG = {'categorical_cols': {'nominal': ['url', 'region', 'region_url', 'manufacturer', 'model', 'cyclinders', 'fuel', 'title_status', 'transmission',\n",
    "                                           'VIN', 'drive', 'size', 'type', 'paint_color', 'image_url', 'description', 'county', 'state'],\n",
    "                               'ordinal': ['condition']},\n",
    "                               \n",
    "          'numerical_cols':   {'integer': ['id', 'price', 'odometer'],\n",
    "                               'float':   ['lat', 'long']},\n",
    "                               \n",
    "          'datetime_cols':    ['posted_date']\n",
    "}"
   ]
  },
  {
   "cell_type": "code",
   "execution_count": null,
   "metadata": {},
   "outputs": [],
   "source": [
    "train_df.describe()\n",
    "\n",
    "# NOTE:\n",
    "# 1. ID is not useful and will need to be dropped in the preprocessing stage\n",
    "# 2. Year contains an interesting minimum value of 1913.\n",
    "# 3. Country needs to bee explored further (potentially dropped)"
   ]
  },
  {
   "cell_type": "code",
   "execution_count": null,
   "metadata": {},
   "outputs": [],
   "source": [
    "train_df.select_dtypes(include=\"O\").describe()\n",
    "\n",
    "# NOTE:\n",
    "# 1. Assumption that the following columns can be dropped as they have nothing to do with the price (and hence dropped):\n",
    "#    - [\"url\", \"VIN\", \"region_url\", \"image_url\", \"description\"]\n",
    "# 2. The following column appears to be constant:\n",
    "#    - [\"title_status\"]  (i.e. 9438/9785=96% records being static)\n",
    "# 3. Cardinality / Rare check\n",
    "#    - [\"region\", \"manufacturer\", \"model\", \"condition\", \"cylinders\", \"fuel\", \"type\", \"paint_color\", \"state\"]"
   ]
  },
  {
   "cell_type": "code",
   "execution_count": null,
   "metadata": {},
   "outputs": [],
   "source": [
    "# Visualise kendall correlation matrix\n",
    "corrmat = train_df.corr(method=\"kendall\", numeric_only=True)\n",
    "sns.heatmap(\n",
    "    corrmat, cmap=\"coolwarm\", annot=True, fmt=\".2f\", linewidths=0.5, linecolor=\"gray\"\n",
    ")\n",
    "plt.title(\"Correlation Matrix\")\n",
    "plt.tight_layout()\n",
    "\n",
    "# NOTE:\n",
    "# 1. Kendall's correlation is used to assess the monotonic relationship between the variables.\n",
    "#    - Robust to outliers (which we have plenty)\n",
    "#    - Sufficient sample size\n",
    "\n",
    "# 2. We should be mindful of the intense blue and red highlights to capture strong\n",
    "#    negative and positive correlation signals.\n",
    "\n",
    "# 3. Will need to explore after the correction of dtypes"
   ]
  },
  {
   "cell_type": "code",
   "execution_count": null,
   "metadata": {},
   "outputs": [],
   "source": [
    "# Exploration: Numerical correlations\n",
    "x = \"year\"\n",
    "y = \"price\"\n",
    "\n",
    "visualise_corr_pairs(train_df, x, y)\n",
    "\n",
    "# NOTE:\n",
    "# 1. Select a variable of interest to visualise how it is correlated with the response\n",
    "# 2. We can see the strong influence of outliers on the response that needs to be addressed"
   ]
  },
  {
   "cell_type": "code",
   "execution_count": null,
   "metadata": {},
   "outputs": [],
   "source": [
    "# x = \"year\"\n",
    "# y = \"price\"\n",
    "\n",
    "# visualise_corr_pairs(train_df[train_df[\"price\"] < 2.599900e+08], x, y)"
   ]
  },
  {
   "cell_type": "code",
   "execution_count": null,
   "metadata": {},
   "outputs": [],
   "source": [
    "CAT_COLS = [\"size\", \"cylinders\", \"fuel\", \"condition\", \"drive\", \"paint_color\", \"type\"] # Columns selected using intuition (business understanding)\n",
    "for cat_col in CAT_COLS:\n",
    "    plot_overlay_graph(train_df, cat_col, \"price\")\n",
    "\n",
    "# NOTE:\n",
    "# 1. There looks to be some variation in the data for the different categories of the categorical columns.\n",
    "# 2. These columns looks to be important for predicting the 'price' column so the missing values will be filled in with 'missing' and they will be flagged."
   ]
  },
  {
   "cell_type": "code",
   "execution_count": null,
   "metadata": {},
   "outputs": [],
   "source": [
    "# # Exploration: Categorical correlations\n",
    "# x = \"cylinders\"\n",
    "# y = \"price\"\n",
    "\n",
    "# visualise_corr_pairs(train_df, x, y, vis_type=\"boxplot\")\n",
    "\n",
    "# # NOTE:\n",
    "# # 1. Select a variable of interest to visualise how it is correlated with the response\n",
    "# # 2. We can see the strong influence of outliers on the response that needs to be addressed"
   ]
  },
  {
   "cell_type": "code",
   "execution_count": null,
   "metadata": {},
   "outputs": [],
   "source": [
    "# Explore missing values to proceed with data imputation later on as needed\n",
    "total = train_df.isnull().sum().sort_values(ascending=False)\n",
    "percent = (train_df.isnull().sum() / len(train_df)).sort_values(ascending=False)\n",
    "\n",
    "# Combine the absolute and percent number of missing values in a dataframe\n",
    "missing_df = pd.concat([total, percent], axis=1, keys=[\"Total\", \"Percent\"])\n",
    "missing_df[\"Percent\"] = round(missing_df[\"Percent\"] * 100, 3)\n",
    "missing_df\n",
    "\n",
    "# NOTE:\n",
    "# 1. Rule of thumb to drop a variable is usually ~30%; subject to data size, importance of the variable, problem at hand etc.\n",
    "\n",
    "# 2. Based on missing data, the following decisions are made:\n",
    "#    Drop: [\"country\", \"size\"]\n",
    "#    Impute: [\"cylinders\", \"condition\", \"paint_color\", \"drive\", \"type\"]\n",
    "#    Complete case: 5% of missing values (subject to % of data dropped)\n",
    "\n",
    "# 3. Depending on the missing pattern (i.e. MCAR, MAR, NMAR), we will perform proper imputation techniques."
   ]
  },
  {
   "cell_type": "code",
   "execution_count": null,
   "metadata": {},
   "outputs": [],
   "source": [
    "# Assess missing data patterns\n",
    "plt.figure(figsize=(10, 6))\n",
    "sns.heatmap(train_df.isnull(), cmap=\"viridis\", cbar=False)\n",
    "plt.tight_layout()\n",
    "\n",
    "# NOTE:\n",
    "# 1. Based on the missing data heatmap, it looks like there is no pattern between the missing columns in general.\n",
    "# 2. Lat(itude) and (long)itude look to have missing data similarly."
   ]
  },
  {
   "cell_type": "code",
   "execution_count": null,
   "metadata": {},
   "outputs": [],
   "source": [
    "# Explore outliers on numerical columns\n",
    "for num_col in [\"year\", \"odometer\", \"lat\", \"long\"]:\n",
    "    sns.boxplot(train_df[num_col].reset_index(drop=True))\n",
    "    plt.title(f\"Outlier exploration for col: {num_col}\")\n",
    "    plt.show()"
   ]
  },
  {
   "cell_type": "code",
   "execution_count": null,
   "metadata": {},
   "outputs": [],
   "source": [
    "# NOTE:\n",
    "# 1. Outliers to be removed from the following columns:\n",
    "#    - [\"year\", \"odometer\"]\n",
    "# 2. We do not need to be too strict with the outliers as random forest regressor is relatively robust to outliers"
   ]
  },
  {
   "cell_type": "code",
   "execution_count": null,
   "metadata": {},
   "outputs": [],
   "source": [
    "# Explore cardinality of categorical variables\n",
    "CARDINALITY_COLS = [\"region\", \"manufacturer\", \"model\", \"condition\", \"cylinders\", \"fuel\", \"type\", \"paint_color\", \"state\"]\n",
    "for c in CARDINALITY_COLS:\n",
    "    print(train_df[c].value_counts())\n",
    "    train_df[c].value_counts().plot(kind=\"barh\", figsize=(7, 10))\n",
    "    plt.title(f\"Cardinality of columns: {c}\")\n",
    "    plt.show()"
   ]
  },
  {
   "cell_type": "code",
   "execution_count": null,
   "metadata": {},
   "outputs": [],
   "source": [
    "# NOTE:\n",
    "# Columns to be transformed for rare labels:\n",
    "# - [\"region\", \"manufacturer\", \"model\", \"condition\", \"cylinders\", \"type\", \"paint_color\", \"state\"]"
   ]
  },
  {
   "cell_type": "code",
   "execution_count": null,
   "metadata": {},
   "outputs": [],
   "source": [
    "# 4 C's of Data Processing:\n",
    "# Correcting: Many missing values, outliers\n",
    "#   - Drop (missing values): [\"county\", \"size\"]\n",
    "#   - Drop (irrelevant values): [\"id\", \"url\", \"region_url\", \"VIN\", \"image_url\", \"description\"]\n",
    "#   - Drop (constant): [\"title_status\"]\n",
    "#   - Outliers: [\"year\", \"odometer\"]\n",
    "\n",
    "# Completing: Null Values\n",
    "#   - Impute: [\"cylinders\", \"condition\", \"paint_color\", \"driver\", \"type\"]\n",
    "#   - Complete case analysis for rest\n",
    "\n",
    "# Creating: Feature Engineering\n",
    "#   - Month/days etc: [\"posting_date\"]\n",
    "#   - Datetime cyclical encoding: [\"posting_date\"] (year, month, day)\n",
    "\n",
    "# Converting:\n",
    "#   - Rare labels: [\"region\", \"manufacturer\", \"model\", \"condition\", \"cylinders\", \"type\", \"paint_color\", \"state\"]\n",
    "#   - Target mean encoder: [\"\"]\n",
    "#   -  data types (e.g one hot encoding)"
   ]
  },
  {
   "cell_type": "code",
   "execution_count": null,
   "metadata": {},
   "outputs": [],
   "source": [
    "# TODO:\n",
    "# 1. The 'Lat' and 'Long' to be filled in using the region column (smallest level of granularity)\n",
    "# 2. The 'title_status' column will be removed because 97% belongs to a single column \n",
    "#    Note: In another iteration, I will include it to explore if it gives any extra predictive power.\n",
    "# 3. The 'model' column potentially could be filled in using the 'description' column but too difficult.\n",
    "#    Options: a) Most Frequent label (probably not) b) Review UDEMY course\n",
    "# 4. fuel                    \n",
    "# 5. odometer                \n",
    "# 6. transmission            \n",
    "# 7. year                    \n",
    "# 8. image_url               \n",
    "# 9. posting_date            \n",
    "# 10. description            "
   ]
  },
  {
   "cell_type": "markdown",
   "metadata": {},
   "source": [
    "# 2. Data Pre-Processing"
   ]
  },
  {
   "cell_type": "markdown",
   "metadata": {},
   "source": [
    "4 C's of Data Processing:\n",
    "* Correcting: Many missing values, outliers\n",
    "* Completing: Null Values\n",
    "* Creating: Feature Engineering\n",
    "* Converting: data types (e.g one hot encoding)"
   ]
  },
  {
   "cell_type": "markdown",
   "metadata": {},
   "source": [
    "### 2.1 Data Cleaning"
   ]
  },
  {
   "cell_type": "code",
   "execution_count": 5,
   "metadata": {},
   "outputs": [],
   "source": [
    "# Import processing packages\n",
    "from feature_engine.selection import DropFeatures, DropConstantFeatures\n",
    "from feature_engine.imputation import DropMissingData, AddMissingIndicator, CategoricalImputer\n",
    "from feature_engine.outliers import Winsorizer\n",
    "from feature_engine.encoding import OrdinalEncoder, OneHotEncoder, RareLabelEncoder, CountFrequencyEncoder, MeanEncoder\n",
    "from sklearn.preprocessing import MinMaxScaler"
   ]
  },
  {
   "cell_type": "code",
   "execution_count": 17,
   "metadata": {},
   "outputs": [],
   "source": [
    "drop_features_encoder = DropFeatures(\n",
    "    features_to_drop=[\"id\", \"url\", \"region_url\", \"VIN\", \"image_url\", \"description\", \"county\", \"size\"]\n",
    "    )\n",
    "train_df = drop_features_encoder.fit_transform(train_df)\n",
    "test_df = drop_features_encoder.transform(test_df)\n",
    "\n",
    "# Save transformer for inference on unseen data\n",
    "filename = \"models/drop_features_encoder.pkl\"\n",
    "dump_pickle(obj=drop_features_encoder, filename=filename)"
   ]
  },
  {
   "cell_type": "code",
   "execution_count": null,
   "metadata": {},
   "outputs": [],
   "source": [
    "# missing_indicator = AddMissingIndicator(\n",
    "#     missing_only=True,\n",
    "#     variables=[\"cylinders\", \"condition\", \"paint_color\", \"drive\", \"type\"]\n",
    "# )\n",
    "# train_df = missing_indicator.fit_transform(train_df)\n",
    "# test_df = missing_indicator.transform(test_df)\n",
    "\n",
    "# # Save transformer for inference on unseen data\n",
    "# filename = \"models/missing_indicator.pkl\"\n",
    "# dump_pickle(obj=missing_indicator, filename=filename)\n",
    "\n",
    "# # NOTE:\n",
    "# # Added to ensure that missing values do not predict the response"
   ]
  },
  {
   "cell_type": "code",
   "execution_count": 18,
   "metadata": {},
   "outputs": [],
   "source": [
    "categorical_imputer_encoder = CategoricalImputer(\n",
    "    imputation_method=\"missing\",\n",
    "    fill_value=\"Missing\",\n",
    "    variables=[\"cylinders\", \"condition\", \"paint_color\", \"drive\", \"type\"]\n",
    ")\n",
    "train_df = categorical_imputer_encoder.fit_transform(train_df)\n",
    "test_df = categorical_imputer_encoder.transform(test_df)\n",
    "\n",
    "# Save transformer for inference on unseen data\n",
    "filename = \"models/categorical_imputer_encoder.pkl\"\n",
    "dump_pickle(obj=categorical_imputer_encoder, filename=filename)"
   ]
  },
  {
   "cell_type": "code",
   "execution_count": 19,
   "metadata": {},
   "outputs": [],
   "source": [
    "drop_missing_data_encoder = DropMissingData(\n",
    "    missing_only=True\n",
    "    )\n",
    "train_df = drop_missing_data_encoder.fit_transform(train_df)\n",
    "test_df = drop_missing_data_encoder.transform(test_df)\n",
    "\n",
    "# Save transformer for inference on unseen data\n",
    "filename = \"models/drop_missing_data_encoder.pkl\"\n",
    "dump_pickle(obj=drop_missing_data_encoder, filename=filename)\n",
    "\n",
    "# NOTE:\n",
    "# Dropped 11% of the original data"
   ]
  },
  {
   "cell_type": "code",
   "execution_count": 20,
   "metadata": {},
   "outputs": [],
   "source": [
    "constant_feature_encoder = DropConstantFeatures(\n",
    "    tol=0.9  # Drop variables that contain the same values more 90%\n",
    ")\n",
    "train_df = constant_feature_encoder.fit_transform(train_df)\n",
    "test_df = constant_feature_encoder.transform(test_df)\n",
    "\n",
    "# Save transformer for inference on unseen data\n",
    "filename = \"models/constant_feature_encoder.pkl\"\n",
    "dump_pickle(obj=constant_feature_encoder, filename=filename)"
   ]
  },
  {
   "cell_type": "code",
   "execution_count": 21,
   "metadata": {},
   "outputs": [],
   "source": [
    "winsorizer_encoder = Winsorizer(\n",
    "    capping_method=\"mad\",\n",
    "    fold=3, # Check with 3.5\n",
    "    tail=\"both\",\n",
    "    variables=[\"odometer\", \"price\"],  # Could potentially add \"year\" in case it improves performance\n",
    "    add_indicators=False,  # False as the outliers are plausible numbers and random forest is robust on outliers\n",
    ")\n",
    "train_df = winsorizer_encoder.fit_transform(train_df)\n",
    "test_df = winsorizer_encoder.transform(test_df)\n",
    "\n",
    "# Save transformer for inference on unseen data\n",
    "filename = \"models/winsorizer_encoder.pkl\"\n",
    "dump_pickle(obj=winsorizer_encoder, filename=filename)"
   ]
  },
  {
   "cell_type": "code",
   "execution_count": 23,
   "metadata": {},
   "outputs": [],
   "source": [
    "CYLINDERS_MAPPING = {\n",
    "    \"Missing\": -1,\n",
    "    \"other\": 0,\n",
    "    \"3 cylinders\": 3,\n",
    "    \"4 cylinders\": 4,\n",
    "    \"5 cylinders\": 5,\n",
    "    \"6 cylinders\": 6,\n",
    "    \"8 cylinders\": 8,\n",
    "    \"10 cylinders\": 10,\n",
    "    \"12 cylinders\": 12,\n",
    "}\n",
    "\n",
    "train_df[\"cylinders\"] = train_df[\"cylinders\"].map(CYLINDERS_MAPPING)\n",
    "test_df[\"cylinders\"] = test_df[\"cylinders\"].map(CYLINDERS_MAPPING)"
   ]
  },
  {
   "cell_type": "code",
   "execution_count": 25,
   "metadata": {},
   "outputs": [],
   "source": [
    "CONDITION_MAPPING = {\n",
    "    \"Missing\": -1,\n",
    "    \"salvage\": 0,\n",
    "    \"fair\": 1,\n",
    "    \"good\": 2,\n",
    "    \"like new\": 3,\n",
    "    \"new\": 4,\n",
    "    \"excellent\": 5,\n",
    "}\n",
    "\n",
    "train_df[\"condition\"] = train_df[\"condition\"].map(CONDITION_MAPPING)\n",
    "test_df[\"condition\"] = test_df[\"condition\"].map(CONDITION_MAPPING)"
   ]
  },
  {
   "cell_type": "code",
   "execution_count": null,
   "metadata": {},
   "outputs": [],
   "source": [
    "# ordinal_encoder = OrdinalEncoder(\n",
    "#     encoding_method=\"arbitrary\",\n",
    "#     variables=[\"condition\", \"cylinders\"],\n",
    "#     unseen=\"encode\"  # Use -1 for unseen categories\n",
    "# )\n",
    "# train_df = ordinal_encoder.fit_transform(train_df)\n",
    "# test_df = ordinal_encoder.transform(test_df)\n",
    "\n",
    "# # Save transformer for inference on unseen data\n",
    "# filename = \"models/ordinal_encoder.pkl\"\n",
    "# dump_pickle(obj=ordinal_encoder, filename=filename)"
   ]
  },
  {
   "cell_type": "code",
   "execution_count": 26,
   "metadata": {},
   "outputs": [],
   "source": [
    "onehot_encoder = OneHotEncoder(\n",
    "    drop_last=True,\n",
    "    variables=[\"fuel\", \"transmission\", \"drive\"]\n",
    ")\n",
    "train_df = onehot_encoder.fit_transform(train_df)\n",
    "test_df = onehot_encoder.transform(test_df)\n",
    "\n",
    "# Save transformer for inference on unseen data\n",
    "filename = \"models/onehot_encoder.pkl\"\n",
    "dump_pickle(obj=onehot_encoder, filename=filename)"
   ]
  },
  {
   "cell_type": "code",
   "execution_count": 27,
   "metadata": {},
   "outputs": [],
   "source": [
    "rare_label_encoder = RareLabelEncoder(\n",
    "    tol=0.01,  # Categories with frequencies lower than tol will be grouped\n",
    "    n_categories=5,  # Minimum number of categories to exist\n",
    "    variables=[\"manufacturer\", \"type\", \"paint_color\", \"state\"],\n",
    "    replace_with=\"Rare\",\n",
    ")\n",
    "train_df = rare_label_encoder.fit_transform(train_df)\n",
    "test_df = rare_label_encoder.transform(test_df)\n",
    "\n",
    "# Save transformer for inference on unseen data\n",
    "filename = \"models/rare_label_encoder.pkl\"\n",
    "dump_pickle(obj=rare_label_encoder, filename=filename)"
   ]
  },
  {
   "cell_type": "code",
   "execution_count": 28,
   "metadata": {},
   "outputs": [],
   "source": [
    "frequency_encoder = CountFrequencyEncoder(\n",
    "    encoding_method=\"count\",\n",
    "    variables=[\"region\", \"model\"],  # Count frequency was used as both of these columns are of high cardinality and low frequency\n",
    "    unseen=\"encode\",  # Encoded as 0 if category not seen\n",
    ")\n",
    "train_df = frequency_encoder.fit_transform(train_df)\n",
    "test_df = frequency_encoder.transform(test_df)\n",
    "\n",
    "# Save transformer for inference on unseen data\n",
    "filename = \"models/frequency_encoder.pkl\"\n",
    "dump_pickle(obj=frequency_encoder, filename=filename)"
   ]
  },
  {
   "cell_type": "code",
   "execution_count": null,
   "metadata": {},
   "outputs": [],
   "source": [
    "# # Explore cardinality of categorical variables\n",
    "# CARDINALITY_COLS = [\"manufacturer\", \"condition\", \"cylinders\", \"type\", \"paint_color\", \"state\"]\n",
    "# for c in CARDINALITY_COLS:\n",
    "#     print(train_df[c].value_counts())\n",
    "#     train_df[c].value_counts().plot(kind=\"barh\", figsize=(7, 10))\n",
    "#     plt.title(f\"Cardinality of columns: {c}\")\n",
    "#     plt.show()"
   ]
  },
  {
   "cell_type": "code",
   "execution_count": 29,
   "metadata": {},
   "outputs": [],
   "source": [
    "mean_encoder = MeanEncoder(\n",
    "    variables=[\"manufacturer\", \"type\", \"paint_color\", \"state\"],\n",
    "    unseen=\"encode\"\n",
    ")\n",
    "train_df = mean_encoder.fit_transform(train_df, train_df[\"price\"])\n",
    "test_df = mean_encoder.transform(test_df)\n",
    "\n",
    "# Save transformer for inference on unseen data\n",
    "filename = \"models/mean_encoder.pkl\"\n",
    "dump_pickle(obj=mean_encoder, filename=filename)"
   ]
  },
  {
   "cell_type": "markdown",
   "metadata": {},
   "source": [
    "### 2.2 Feature Engineering"
   ]
  },
  {
   "cell_type": "code",
   "execution_count": 30,
   "metadata": {},
   "outputs": [],
   "source": [
    "from feature_engine.datetime import DatetimeFeatures\n",
    "from feature_engine.creation import CyclicalFeatures"
   ]
  },
  {
   "cell_type": "code",
   "execution_count": 31,
   "metadata": {},
   "outputs": [],
   "source": [
    "datetime_features_encoder = DatetimeFeatures(\n",
    "    variables=[\"posting_date\"], \n",
    "    features_to_extract=[\"month\", \"quarter\", \"year\", \"week\"], \n",
    "    utc=True,\n",
    ")\n",
    "train_df = datetime_features_encoder.fit_transform(train_df)\n",
    "test_df = datetime_features_encoder.transform(test_df)\n",
    "\n",
    "# Save transformer for inference on unseen data\n",
    "filename = \"models/datetime_features_encoder.pkl\"\n",
    "dump_pickle(obj=datetime_features_encoder, filename=filename)"
   ]
  },
  {
   "cell_type": "code",
   "execution_count": 32,
   "metadata": {},
   "outputs": [],
   "source": [
    "cyclical_features_encoder = CyclicalFeatures(\n",
    "    variables=[\"posting_date_month\", \"posting_date_quarter\", \"posting_date_year\", \"posting_date_week\"],\n",
    "    drop_original=False  # TODO: To be assessed\n",
    ")\n",
    "train_df = cyclical_features_encoder.fit_transform(train_df)\n",
    "test_df = cyclical_features_encoder.transform(test_df)\n",
    "\n",
    "# Save transformer for inference on unseen data\n",
    "filename = \"models/cyclical_features_encoder.pkl\"\n",
    "dump_pickle(obj=cyclical_features_encoder, filename=filename)"
   ]
  },
  {
   "cell_type": "code",
   "execution_count": 33,
   "metadata": {},
   "outputs": [],
   "source": [
    "# TODO:  Scale variables using mix max (speeds up training time)\n"
   ]
  },
  {
   "cell_type": "markdown",
   "metadata": {},
   "source": [
    "# 3. Model Building"
   ]
  },
  {
   "cell_type": "code",
   "execution_count": 34,
   "metadata": {},
   "outputs": [],
   "source": [
    "# Import modelling packages\n",
    "from sklearn.model_selection import GridSearchCV, cross_val_score, train_test_split\n",
    "from sklearn.ensemble import RandomForestRegressor\n",
    "\n",
    "# Import validations packages\n",
    "from yellowbrick.model_selection import ValidationCurve, LearningCurve\n",
    "from sklearn.metrics import mean_squared_error, mean_absolute_error, r2_score\n",
    "\n",
    "# # Import Model & Data drift packages\n",
    "# from evidently.metric_preset import DataDriftPreset, RegressionPreset\n",
    "# from evidently.report import Report"
   ]
  },
  {
   "cell_type": "code",
   "execution_count": 35,
   "metadata": {},
   "outputs": [],
   "source": [
    "# Split the data into the X matrix and y target to prepare for modelling\n",
    "X_train = train_df.drop(\"price\", axis=1)\n",
    "X_test = test_df.drop(\"price\", axis=1)\n",
    "\n",
    "y_train = train_df[\"price\"]\n",
    "y_test = test_df[\"price\"]"
   ]
  },
  {
   "cell_type": "code",
   "execution_count": 36,
   "metadata": {},
   "outputs": [],
   "source": [
    "# # Scale variables before the modelling stage\n",
    "# column_names = X_train.columns\n",
    "# min_max_scaler = MinMaxScaler()\n",
    "# X_train = min_max_scaler.fit_transform(X_train)\n",
    "# X_test = min_max_scaler.transform(X_test)\n",
    "\n",
    "# # Convert the scaled data array back to a DataFrame\n",
    "# X_train = pd.DataFrame(X_train, columns=column_names)\n",
    "# X_test = pd.DataFrame(X_test, columns=column_names)\n",
    "\n",
    "# # Save transformer for inference on unseen data\n",
    "# filename = \"models/min_max_scaler.pkl\"\n",
    "# dump_pickle(obj=min_max_scaler, filename=filename)"
   ]
  },
  {
   "cell_type": "code",
   "execution_count": 37,
   "metadata": {},
   "outputs": [
    {
     "data": {
      "image/png": "[encoded data removed]",
      "text/plain": [
       "<Figure size 800x550 with 1 Axes>"
      ]
     },
     "metadata": {},
     "output_type": "display_data"
    },
    {
     "data": {
      "text/plain": [
       "<Axes: title={'center': 'Learning Curve for RandomForestRegressor'}, xlabel='Training Instances', ylabel='Score'>"
      ]
     },
     "execution_count": 37,
     "metadata": {},
     "output_type": "execute_result"
    }
   ],
   "source": [
    "# Assess whether sample size is sufficient for random forest to be used as a model given its a data-hungry algorithm\n",
    "visualizer = LearningCurve(\n",
    "    RandomForestRegressor(random_state=120),\n",
    "    scoring=\"neg_mean_squared_error\",\n",
    ")\n",
    "visualizer.fit(X_train, y_train)\n",
    "visualizer.show()"
   ]
  },
  {
   "cell_type": "code",
   "execution_count": 38,
   "metadata": {},
   "outputs": [
    {
     "data": {
      "image/png": "[encoded data removed]",
      "text/plain": [
       "<Figure size 800x550 with 1 Axes>"
      ]
     },
     "metadata": {},
     "output_type": "display_data"
    },
    {
     "data": {
      "text/plain": [
       "<Axes: title={'center': 'Validation Curve for RandomForestRegressor'}, xlabel='n_estimators', ylabel='score'>"
      ]
     },
     "execution_count": 38,
     "metadata": {},
     "output_type": "execute_result"
    }
   ],
   "source": [
    "viz = ValidationCurve(\n",
    "    RandomForestRegressor(random_state=120),\n",
    "    param_name=\"n_estimators\",\n",
    "    param_range=np.arange(20, 150, 20),\n",
    "    cv=5,\n",
    "    scoring=\"neg_mean_squared_error\",\n",
    ")\n",
    "viz.fit(X_train, y_train)\n",
    "viz.show()"
   ]
  },
  {
   "cell_type": "code",
   "execution_count": null,
   "metadata": {},
   "outputs": [],
   "source": [
    "# Define the hyperparameter grid to search for optimal parameters (influenced by ValidationCurve)\n",
    "PARAM_GRID = {\n",
    "    \"n_estimators\": [\n",
    "        50,\n",
    "        75,\n",
    "        100,\n",
    "    ],  # Number of trees in the forest; Increase the number generally will improve performance, but it also increases the training time.\n",
    "    \"max_depth\": [\n",
    "        2,\n",
    "        5,\n",
    "        10,\n",
    "    ],  # Maximum depth of trees. Increase the depth might increase performance but prone to overfitting.\n",
    "    \"min_samples_split\": [\n",
    "        2,\n",
    "        4,\n",
    "    ],  # Minimum number of samples to split an internal node. Increase value can prevent overfitting     (Potential values: [2, 5, 10])\n",
    "    \"min_samples_leaf\": [\n",
    "        1,\n",
    "        2,\n",
    "        3,\n",
    "        4,\n",
    "    ],  # Minimum number of samples required to be at a leaf node. Increase value can prevent overfitting (Potential values: [1, 2, 4])\n",
    "}\n",
    "\n",
    "# Perform hyperparameter tuning for Random Forest Regressor\n",
    "rf = RandomForestRegressor(random_state=120)\n",
    "grid_search = GridSearchCV(\n",
    "    estimator=rf, param_grid=PARAM_GRID, cv=5, scoring=\"neg_mean_squared_error\"\n",
    ")\n",
    "grid_search.fit(X_train, y_train)\n",
    "\n",
    "# Print the best set of parameters and best score (neg mean squared error)\n",
    "print(\"Best parameters:\", grid_search.best_params_)\n",
    "print(\"Best cross-validation score:\", grid_search.best_score_)\n",
    "\n",
    "# Choose the best estimator from the different parameters\n",
    "best_rf = grid_search.best_estimator_\n",
    "\n",
    "# Perform 5-fold cross validation to estimate generalized performance\n",
    "scores = cross_val_score(\n",
    "    best_rf, X_train, y_train, cv=5, scoring=\"neg_mean_squared_error\"\n",
    ")\n",
    "print(\"Train set score:\", np.mean(scores), \"+/-\", np.std(scores))\n",
    "\n",
    "# NOTE:\n",
    "# Code takes about ~10 minutes to run."
   ]
  },
  {
   "cell_type": "code",
   "execution_count": null,
   "metadata": {},
   "outputs": [],
   "source": [
    "# Explore the most importance features based on feature importance from the random forest\n",
    "importances = best_rf.feature_importances_\n",
    "importances_df = pd.DataFrame(\n",
    "    {\"feature\": X_train.columns, \"importance\": importances}\n",
    ")\n",
    "importances_df.sort_values(by=\"importance\", ascending=False, inplace=True)\n",
    "importances_df[\"importance\"] = round(importances_df[\"importance\"], 4)\n",
    "\n",
    "# Visualise top 10 important features\n",
    "sns.barplot(x=\"importance\", y=\"feature\", data=importances_df.head(10), orient=\"h\")\n",
    "plt.tight_layout()"
   ]
  },
  {
   "cell_type": "code",
   "execution_count": null,
   "metadata": {},
   "outputs": [],
   "source": [
    "# Explore importance for all features\n",
    "importances_df"
   ]
  },
  {
   "cell_type": "code",
   "execution_count": null,
   "metadata": {},
   "outputs": [],
   "source": [
    "# Perform feature selection using a 0.01 threshold\n",
    "IMPORTANCE_THRESHOLD = 0.01\n",
    "selected_features = importances_df[\n",
    "    importances_df[\"importance\"] >= IMPORTANCE_THRESHOLD\n",
    "][\"feature\"].tolist()\n",
    "selected_features"
   ]
  },
  {
   "cell_type": "code",
   "execution_count": null,
   "metadata": {},
   "outputs": [],
   "source": [
    "# Get the subset of features and re-train using only the important columns\n",
    "X_train_fi = X_train[selected_features]\n",
    "X_test_fi = X_test[selected_features]\n",
    "\n",
    "# Fit the best random forest model after the feature selection and save it for future inference\n",
    "best_rf.fit(X_train_fi, y_train)\n",
    "\n",
    "filename = \"models/rf_model.pkl\" \n",
    "dump_pickle(obj=best_rf, filename=filename)\n",
    "\n",
    "# Evaluate the performance of the final model on the test set\n",
    "scores = cross_val_score(\n",
    "    best_rf, X_train_fi, y_train, cv=5, scoring=\"neg_mean_squared_error\"\n",
    ")\n",
    "print(\"Cross-validation set score:\", np.mean(scores), \"+/-\", np.std(scores))"
   ]
  },
  {
   "cell_type": "code",
   "execution_count": null,
   "metadata": {},
   "outputs": [],
   "source": [
    "# Inference on the test (unseen) set using the best random forest model\n",
    "y_pred = best_rf.predict(X_test_fi)"
   ]
  },
  {
   "cell_type": "code",
   "execution_count": null,
   "metadata": {},
   "outputs": [],
   "source": [
    "# Calculate evaluation metrics to assess model's performance\n",
    "mse = mean_squared_error(y_test, y_pred)\n",
    "rmse = np.sqrt(mse)\n",
    "mae = mean_absolute_error(y_test, y_pred)\n",
    "r2 = r2_score(y_test, y_pred)\n",
    "\n",
    "print(f\"Mean Squared Error: {mse}\")  \n",
    "print(f\"Root Mean Squared Error: {rmse}\")\n",
    "print(f\"Mean Absolute Error: {mae}\")\n",
    "print(f\"R2 Score: {r2}\")  # R2 Score: 0.886"
   ]
  },
  {
   "cell_type": "code",
   "execution_count": null,
   "metadata": {},
   "outputs": [],
   "source": []
  }
 ],
 "metadata": {
  "kernelspec": {
   "display_name": "Python 3.8.9 ('venv': venv)",
   "language": "python",
   "name": "python3"
  },
  "language_info": {
   "codemirror_mode": {
    "name": "ipython",
    "version": 3
   },
   "file_extension": ".py",
   "mimetype": "text/x-python",
   "name": "python",
   "nbconvert_exporter": "python",
   "pygments_lexer": "ipython3",
   "version": "3.9.6"
  },
  "orig_nbformat": 4,
  "vscode": {
   "interpreter": {
    "hash": "0d0aa7314b25e28c2e349ec1249f1133e767ff8488e65dd2a896c5a26a2b6fef"
   }
  }
 },
 "nbformat": 4,
 "nbformat_minor": 2
}
